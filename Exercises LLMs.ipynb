{
 "cells": [
  {
   "cell_type": "code",
   "execution_count": 14,
   "id": "ad7015ce",
   "metadata": {},
   "outputs": [],
   "source": [
    "import numpy as np\n",
    "import pandas as pd\n",
    "import matplotlib as mpl\n",
    "\n",
    "data = pd.read_csv('/Users/jendrikitzen/Desktop/Experimental Methods I Literature/Data.csv', sep=';')"
   ]
  },
  {
   "cell_type": "markdown",
   "id": "7d5a95a2",
   "metadata": {},
   "source": [
    "### Exercise I ###\n",
    "Calculate the mean of the dax in the year 2004"
   ]
  },
  {
   "cell_type": "code",
   "execution_count": null,
   "id": "59789437",
   "metadata": {
    "scrolled": false
   },
   "outputs": [],
   "source": []
  },
  {
   "cell_type": "markdown",
   "id": "b7c22ac0",
   "metadata": {},
   "source": [
    "### Exercise II ###\n",
    "Regress the returns of the DAX (independent variable) against the returns of the Dow Jones. Display the standard errors in a line graph."
   ]
  },
  {
   "cell_type": "code",
   "execution_count": null,
   "id": "94db5c1d",
   "metadata": {},
   "outputs": [],
   "source": []
  }
 ],
 "metadata": {
  "kernelspec": {
   "display_name": "Python 3 (ipykernel)",
   "language": "python",
   "name": "python3"
  },
  "language_info": {
   "codemirror_mode": {
    "name": "ipython",
    "version": 3
   },
   "file_extension": ".py",
   "mimetype": "text/x-python",
   "name": "python",
   "nbconvert_exporter": "python",
   "pygments_lexer": "ipython3",
   "version": "3.9.7"
  }
 },
 "nbformat": 4,
 "nbformat_minor": 5
}
