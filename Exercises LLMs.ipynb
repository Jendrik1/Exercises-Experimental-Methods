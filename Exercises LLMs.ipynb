{
 "cells": [
  {
   "cell_type": "code",
   "execution_count": null,
   "id": "ad7015ce",
   "metadata": {},
   "outputs": [],
   "source": [
    "import numpy as np\n",
    "import pandas as pd\n",
    "import matplotlib as mpl\n",
    "import statsmodels\n",
    "\n",
    "df = pd.read_csv('ModifiedData.csv', sep=';')"
   ]
  },
  {
   "cell_type": "markdown",
   "id": "7d5a95a2",
   "metadata": {},
   "source": [
    "### Exercise I: Data Cleaning and Preprocessing ###\n",
    "\n",
    "Clean the provided dataset (df) by identifying and handling missing values and outliers. Specifically replace missing values with the mean. Provide a brief explanation of the methods you used."
   ]
  },
  {
   "cell_type": "markdown",
   "id": "d96ef722",
   "metadata": {},
   "source": [
    "#### Assistance provided by the LLM: ####"
   ]
  },
  {
   "cell_type": "code",
   "execution_count": null,
   "id": "59789437",
   "metadata": {
    "scrolled": false
   },
   "outputs": [],
   "source": [
    "# Identifying missing values\n",
    "missing_values = df.isnull().sum()\n",
    "print(missing_values)\n",
    "\n",
    "# Identifying outliers\n",
    "Q1 = df['column_name'].quantile(0.25)\n",
    "Q3 = df['column_name'].quantile(0.75)\n",
    "IQR = Q3 - Q1\n",
    "outliers = df[(df['column_name'] < Q1 - 1.5 * IQR) | (df['column_name'] > Q3 + 1.5 * IQR)]\n",
    "print(outliers)\n",
    "\n",
    "# Replacing missing values\n",
    "df['column_name'].fillna(df['column_name'].mean(), inplace=True)"
   ]
  },
  {
   "cell_type": "code",
   "execution_count": null,
   "id": "956d6ee8",
   "metadata": {},
   "outputs": [],
   "source": [
    "# Your solution:"
   ]
  },
  {
   "cell_type": "markdown",
   "id": "b7c22ac0",
   "metadata": {},
   "source": [
    "### Exercise II: Exploratory Data Analysis ###\n",
    "Perform an exploratory data analysis on the provided dataset. Create at least three different visualizations and provide a brief interpretation of each."
   ]
  },
  {
   "cell_type": "markdown",
   "id": "af115a65",
   "metadata": {},
   "source": [
    "#### Assistance provided by the LLM: ###"
   ]
  },
  {
   "cell_type": "code",
   "execution_count": null,
   "id": "99d49328",
   "metadata": {},
   "outputs": [],
   "source": [
    "# Line plot\n",
    "plt.plot(df['date'], df['dow'], color='blue')\n",
    "plt.plot(df['date'], df['dax'], color='green')\n",
    "plt.show()\n",
    "\n",
    "# Histogram\n",
    "plt.hist(df['dow'], bins=30, color='blue', alpha=0.5)\n",
    "plt.hist(df['dax'], bins=30, color='green', alpha=0.5)\n",
    "plt.show()\n",
    "\n",
    "# Scatter plot\n",
    "plt.scatter(df['dow'], df['dax'], color='purple')\n",
    "plt.show()"
   ]
  },
  {
   "cell_type": "code",
   "execution_count": null,
   "id": "942d52b5",
   "metadata": {},
   "outputs": [],
   "source": [
    "# Your solution:"
   ]
  },
  {
   "cell_type": "markdown",
   "id": "423f26ca",
   "metadata": {},
   "source": [
    "### Exercise III: Statistical Analysis ###\n",
    "Perform a regression analysis to investigate the relationship between the DAX and the DOW Jones in the provided dataset. Provide a brief interpretation of the results."
   ]
  },
  {
   "cell_type": "markdown",
   "id": "ed91c416",
   "metadata": {},
   "source": [
    "#### Assistance provided by the LLM: ###"
   ]
  },
  {
   "cell_type": "code",
   "execution_count": null,
   "id": "fba3dbdd",
   "metadata": {},
   "outputs": [],
   "source": [
    "# Linear regression model\n",
    "from sklearn.linear_model import LinearRegression\n",
    "model = LinearRegression()\n",
    "model.fit(X, y)\n",
    "\n",
    "# Coefficients\n",
    "slope = model.coef_\n",
    "intercept = model.intercept_\n",
    "print(f\"Slope: {slope}, Intercept: {intercept}\")\n",
    "\n",
    "# Predictions\n",
    "y_pred = model.predict(X)\n",
    "print(y_pred)"
   ]
  },
  {
   "cell_type": "code",
   "execution_count": null,
   "id": "0a4c5c09",
   "metadata": {},
   "outputs": [],
   "source": [
    "# Your solution:"
   ]
  },
  {
   "cell_type": "markdown",
   "id": "9385491c",
   "metadata": {},
   "source": [
    "### Exercise IV: Interpretation of Regression Output ###"
   ]
  },
  {
   "cell_type": "raw",
   "id": "4c067e5f",
   "metadata": {},
   "source": [
    "Given the following output of a linear regression model, interpret its coefficients in terms of a change in the dependent variable.\n",
    "\n",
    "                            OLS Regression Results                            \n",
    "==============================================================================\n",
    "Dep. Variable:                 income   R-squared:                       0.897\n",
    "Model:                            OLS   Adj. R-squared:                  0.897\n",
    "Method:                 Least Squares   F-statistic:                     2171.\n",
    "Date:                Thu, 13 Jul 2023   Prob (F-statistic):               0.00\n",
    "Time:                        13:04:44   Log-Likelihood:                -9921.5\n",
    "No. Observations:                1000   AIC:                         1.985e+04\n",
    "Df Residuals:                     995   BIC:                         1.988e+04\n",
    "Df Model:                           4                                         \n",
    "Covariance Type:            nonrobust                                         \n",
    "======================================================================================\n",
    "                         coef    std err          t      P>|t|      [0.025      0.975]\n",
    "--------------------------------------------------------------------------------------\n",
    "const               1649.2718    944.136      1.747      0.081    -203.455    3501.998\n",
    "age                  997.8142     10.810     92.306      0.000     976.601    1019.027\n",
    "education_years      444.7140     34.949     12.725      0.000     376.131     513.297\n",
    "log_hours_per_week  -241.2646    190.930     -1.264      0.207    -615.935     133.406\n",
    "gender_Male         -149.5147    312.935     -0.478      0.633    -763.603     464.574\n",
    "==============================================================================\n",
    "Omnibus:                        1.064   Durbin-Watson:                   2.002\n",
    "Prob(Omnibus):                  0.588   Jarque-Bera (JB):                0.936\n",
    "Skew:                          -0.060   Prob(JB):                        0.626\n",
    "Kurtosis:                       3.089   Cond. No.                         294.\n",
    "==============================================================================\n",
    "\n",
    "Notes:\n",
    "[1] Standard Errors assume that the covariance matrix of the errors is correctly specified."
   ]
  },
  {
   "cell_type": "markdown",
   "id": "3f32db04",
   "metadata": {},
   "source": [
    "#### Assistance provided by LLM: ###\n",
    "age: The coefficient for age represents the expected change in income for a one-year increase in age, assuming all other variables are held constant.\n",
    "\n",
    "education_years: The coefficient for education_years represents the expected change in income for each additional year of education, assuming all other variables are held constant.\n",
    "\n",
    "log_hours_per_week: The coefficient for log_hours_per_week represents the expected change in income for a 1% increase in hours worked per week, assuming all other variables are held constant.\n",
    "\n",
    "gender_Male: The coefficient for gender_Male represents the average difference in income for males compared to females, assuming all other variables are held constant.\n",
    "\n",
    "Remember, these interpretations are derived from a linear regression model, which assumes a linear relationship between the predictors and the outcome. The actual relationship may be more complex, and these interpretations should be considered within the broader context of the data."
   ]
  },
  {
   "cell_type": "code",
   "execution_count": null,
   "id": "9dbd5f9a",
   "metadata": {},
   "outputs": [],
   "source": [
    "# Your solution:"
   ]
  }
 ],
 "metadata": {
  "kernelspec": {
   "display_name": "Python 3 (ipykernel)",
   "language": "python",
   "name": "python3"
  },
  "language_info": {
   "codemirror_mode": {
    "name": "ipython",
    "version": 3
   },
   "file_extension": ".py",
   "mimetype": "text/x-python",
   "name": "python",
   "nbconvert_exporter": "python",
   "pygments_lexer": "ipython3",
   "version": "3.9.7"
  }
 },
 "nbformat": 4,
 "nbformat_minor": 5
}
