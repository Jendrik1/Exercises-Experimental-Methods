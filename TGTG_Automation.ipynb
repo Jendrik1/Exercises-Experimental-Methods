{
 "cells": [
  {
   "cell_type": "code",
   "execution_count": 1,
   "id": "7c0abad9",
   "metadata": {},
   "outputs": [],
   "source": [
    "import smtplib\n",
    "import ssl\n",
    "import time\n",
    "import json\n",
    "import random\n",
    "from datetime import datetime as dt\n",
    "from IPython.display import clear_output\n",
    "from email.message import EmailMessage\n",
    "from tgtg import TgtgClient"
   ]
  },
  {
   "cell_type": "markdown",
   "id": "330c461a",
   "metadata": {},
   "source": [
    "### Reinitiate login"
   ]
  },
  {
   "cell_type": "code",
   "execution_count": 2,
   "id": "13f2de58",
   "metadata": {
    "scrolled": true
   },
   "outputs": [
    {
     "name": "stdout",
     "output_type": "stream",
     "text": [
      "Using version 23.5.1\n",
      "Check your mailbox on PC to continue... (Mailbox on mobile won't work, if you have installed tgtg app.)\n",
      "Check your mailbox on PC to continue... (Mailbox on mobile won't work, if you have installed tgtg app.)\n",
      "Logged in!\n"
     ]
    }
   ],
   "source": [
    "client = TgtgClient(email=\"jendrik.itzen@gmx.de\")\n",
    "credentials = client.get_credentials()"
   ]
  },
  {
   "cell_type": "markdown",
   "id": "ed50a007",
   "metadata": {},
   "source": [
    "### Set up automation class"
   ]
  },
  {
   "cell_type": "code",
   "execution_count": 3,
   "id": "273df198",
   "metadata": {},
   "outputs": [],
   "source": [
    "class TGTG_Automation:\n",
    "    def __init__(self, fav_stores_to_check, client, mail_receiver, all_favorites=False):\n",
    "        self.client = client\n",
    "        self.mail_receiver = mail_receiver\n",
    "        self.standard_phrase = 'Restaurants and available bags:\\n'\n",
    "        self.current_text = self.standard_phrase\n",
    "        self.new_info = False\n",
    "        self.showed_favorites = False\n",
    "        self.fav_stores_to_check = fav_stores_to_check  # Stores that should be sent via mail\n",
    "        self.stores = {}  # Favorites that are ticked in the app, should be sent via mail and have stock\n",
    "        self.all_favorites = all_favorites\n",
    "\n",
    "    def get_available_favorites(self, show_current_favorites=False):\n",
    "        self.stores = {}\n",
    "        items = self.client.get_items()  # All information about all favourites in app\n",
    "        if show_current_favorites and not self.showed_favorites:\n",
    "            print([item['store']['store_name'] for item in items])\n",
    "            self.showed_favorites = True\n",
    "        for item in items:\n",
    "            name = item['store']['store_name']\n",
    "            if name in self.fav_stores_to_check or self.all_favorites:\n",
    "                items_available = item['items_available']\n",
    "                if items_available > 0:\n",
    "                    self.stores[name] = items_available\n",
    "\n",
    "    def update_current_text(self):\n",
    "        text = self.standard_phrase\n",
    "        for key, val in zip(self.stores.keys(), self.stores.values()):\n",
    "            key = key.replace('\\n', '')\n",
    "            text += f\"\\n{key}: {val}\"\n",
    "        if text != self.current_text:\n",
    "            self.current_text = text\n",
    "            self.new_info = True\n",
    "    \n",
    "    def update_user_agent(self):\n",
    "        self.client.user_agent = self.client._get_user_agent()\n",
    "        print(self.client.user_agent)\n",
    "\n",
    "    def send_mail(self):\n",
    "        if self.new_info:\n",
    "            pw = 'hvrhddejlfnvkrqw'\n",
    "            sender = 'petermeyer123321@gmail.com'\n",
    "            subject = 'Available bags updated!'\n",
    "            body = self.current_text\n",
    "\n",
    "            em = EmailMessage()\n",
    "            em['From'] = f'TGTG API <{sender}>'\n",
    "            em['To'] = self.mail_receiver\n",
    "            em['Subject'] = subject\n",
    "            em.set_content(body)\n",
    "\n",
    "            context = ssl.create_default_context()\n",
    "\n",
    "            with smtplib.SMTP_SSL('smtp.gmail.com', 465, context=context) as smtp:\n",
    "                smtp.login(sender, pw)\n",
    "                smtp.sendmail(sender, self.mail_receiver, em.as_string())\n",
    "            print(f'Mail sent! ({dt.now()})')\n",
    "            self.new_info = False\n",
    "        else:\n",
    "            print(f'No update! ({dt.now()})')"
   ]
  },
  {
   "cell_type": "markdown",
   "id": "002baa2b",
   "metadata": {},
   "source": [
    "### Define favorites to check and sent per mail"
   ]
  },
  {
   "cell_type": "code",
   "execution_count": 22,
   "id": "b0441b07",
   "metadata": {
    "scrolled": true
   },
   "outputs": [
    {
     "name": "stdout",
     "output_type": "stream",
     "text": [
      "ok\n",
      "Mail sent! (2023-06-15 15:18:36.526603)\n",
      "Using version 23.5.1\n",
      "TGTG/23.5.1 (iPhone; CPU iPhone OS 15_0 like Mac OS X) AppleWebKit/605.1.15 (KHTML, like Gecko) Version/15.0 Mobile/15E148 Safari/604.1\n"
     ]
    },
    {
     "ename": "KeyboardInterrupt",
     "evalue": "",
     "output_type": "error",
     "traceback": [
      "\u001b[0;31m---------------------------------------------------------------------------\u001b[0m",
      "\u001b[0;31mKeyboardInterrupt\u001b[0m                         Traceback (most recent call last)",
      "Cell \u001b[0;32mIn[22], line 22\u001b[0m\n\u001b[1;32m     20\u001b[0m     \u001b[38;5;28mprint\u001b[39m(\u001b[38;5;124mf\u001b[39m\u001b[38;5;124m'\u001b[39m\u001b[38;5;124mAn error occured at: (\u001b[39m\u001b[38;5;132;01m{\u001b[39;00mdt\u001b[38;5;241m.\u001b[39mnow()\u001b[38;5;132;01m}\u001b[39;00m\u001b[38;5;124m)\u001b[39m\u001b[38;5;124m'\u001b[39m)\n\u001b[1;32m     21\u001b[0m     time\u001b[38;5;241m.\u001b[39msleep(\u001b[38;5;241m60\u001b[39m)\n\u001b[0;32m---> 22\u001b[0m time\u001b[38;5;241m.\u001b[39msleep(\u001b[38;5;28mint\u001b[39m(\u001b[38;5;28mmax\u001b[39m(random\u001b[38;5;241m.\u001b[39mnormalvariate(\u001b[38;5;241m180\u001b[39m, \u001b[38;5;241m20\u001b[39m), \u001b[38;5;241m40\u001b[39m)))\n",
      "\u001b[0;31mKeyboardInterrupt\u001b[0m: "
     ]
    }
   ],
   "source": [
    "relevant_favorites = ['Chicago Bagels', 'Roofers Kitchen', 'Café Knoll', \"Schäfer's\", 'Kamps Bäckerei']\n",
    "\n",
    "my_client = TgtgClient(access_token=credentials['access_token'],\n",
    "                refresh_token=credentials['refresh_token'],\n",
    "                user_id=credentials['user_id'],\n",
    "                cookie=credentials['cookie'])\n",
    "\n",
    "refresher = TGTG_Automation(relevant_favorites, my_client, 'jendrik.itzen@gmx.de', True)\n",
    "\n",
    "while True:\n",
    "    clear_output()\n",
    "    try:\n",
    "        refresher.get_available_favorites()\n",
    "        refresher.update_current_text()\n",
    "        refresher.send_mail()\n",
    "        refresher.update_user_agent()\n",
    "    except:\n",
    "        print(f'An error occured at: ({dt.now()})')\n",
    "        time.sleep(60)\n",
    "    time.sleep(int(max(random.normalvariate(180, 20), 40)))\n",
    "    \n",
    "    "
   ]
  },
  {
   "cell_type": "code",
   "execution_count": null,
   "id": "b9d13545",
   "metadata": {},
   "outputs": [],
   "source": [
    "# In case the package gets updated, these are the user agents:\n",
    "USER_AGENTS = [\n",
    "    'TGTG/{} (Linux; U; Android 9; Nexus 5 Build/M4B30Z)',\n",
    "    'TGTG/{} (Linux; U; Android 10; Pixel 3 Build/QP1A.190711.020)',\n",
    "    'TGTG/{} (Linux; U; Android 11; Galaxy S20 Build/RP1A.200720.012)',\n",
    "    'TGTG/{} (Linux; U; Android 12; OnePlus 8T Build/RD1A.201105.003)',\n",
    "    'TGTG/{} (Linux; U; Android 9; Moto G7 Build/PDYS29.105-165-10)',\n",
    "    'TGTG/{} (Linux; U; Android 10; LG V60 ThinQ Build/QKQ1.200216.002)',\n",
    "    'TGTG/{} (Linux; U; Android 11; Sony Xperia 1 II Build/58.1.A.5.159)',\n",
    "    'TGTG/{} (Linux; U; Android 12; Xiaomi Mi 11 Build/RKQ1.201112.002)',\n",
    "    'TGTG/{} (Linux; U; Android 9; Huawei P30 Pro Build/HUAWEIVOG-L29)',\n",
    "    'TGTG/{} (Linux; U; Android 10; Samsung Galaxy Note10+ Build/QP1A.190711.020)',\n",
    "    'TGTG/{} (iPhone; CPU iPhone OS 13_6 like Mac OS X) AppleWebKit/605.1.15 (KHTML, like Gecko) Version/13.1.2 Mobile/15E148 Safari/604.1',\n",
    "    'TGTG/{} (iPhone; CPU iPhone OS 14_0 like Mac OS X) AppleWebKit/605.1.15 (KHTML, like Gecko) Version/14.0 Mobile/15E148 Safari/604.1',\n",
    "    'TGTG/{} (iPhone; CPU iPhone OS 15_0 like Mac OS X) AppleWebKit/605.1.15 (KHTML, like Gecko) Version/15.0 Mobile/15E148 Safari/604.1',\n",
    "    'TGTG/{} (iPhone; CPU iPhone OS 13_6_1 like Mac OS X) AppleWebKit/605.1.15 (KHTML, like Gecko) Version/13.1.2 Mobile/15E148 Safari/604.1',\n",
    "    'TGTG/{} (iPhone; CPU iPhone OS 14_0_1 like Mac OS X) AppleWebKit/605.1.15 (KHTML, like Gecko) Version/14.0 Mobile/15E148 Safari/604.1',\n",
    "    'TGTG/{} (iPhone; CPU iPhone OS 15_0_1 like Mac OS X) AppleWebKit/605.1.15 (KHTML, like Gecko) Version/15.0 Mobile/15E148 Safari/604.1',\n",
    "    'TGTG/{} (iPhone; CPU iPhone OS 13_7 like Mac OS X) AppleWebKit/605.1.15 (KHTML, like Gecko) Version/13.1.2 Mobile/15E148 Safari/604.',\n",
    "    'TGTG/{} (iPhone; CPU iPhone OS 14_2 like Mac OS X) AppleWebKit/605.1.15 (KHTML, like Gecko) Version/14.0 Mobile/15E148 Safari/'\n",
    "]"
   ]
  }
 ],
 "metadata": {
  "kernelspec": {
   "display_name": "mainenv",
   "language": "python",
   "name": "mainenv"
  },
  "language_info": {
   "codemirror_mode": {
    "name": "ipython",
    "version": 3
   },
   "file_extension": ".py",
   "mimetype": "text/x-python",
   "name": "python",
   "nbconvert_exporter": "python",
   "pygments_lexer": "ipython3",
   "version": "3.11.3"
  }
 },
 "nbformat": 4,
 "nbformat_minor": 5
}
